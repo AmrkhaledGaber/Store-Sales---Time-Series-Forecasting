{
 "cells": [
  {
   "cell_type": "code",
   "execution_count": 1,
   "id": "893752c8",
   "metadata": {
    "_cell_guid": "b1076dfc-b9ad-4769-8c92-a6c4dae69d19",
    "_uuid": "8f2839f25d086af736a60e9eeb907d3b93b6e0e5",
    "execution": {
     "iopub.execute_input": "2023-12-28T19:57:53.979536Z",
     "iopub.status.busy": "2023-12-28T19:57:53.979069Z",
     "iopub.status.idle": "2023-12-28T19:57:54.408413Z",
     "shell.execute_reply": "2023-12-28T19:57:54.406960Z"
    },
    "papermill": {
     "duration": 0.440018,
     "end_time": "2023-12-28T19:57:54.411136",
     "exception": false,
     "start_time": "2023-12-28T19:57:53.971118",
     "status": "completed"
    },
    "tags": []
   },
   "outputs": [
    {
     "name": "stdout",
     "output_type": "stream",
     "text": [
      "/kaggle/input/store-sales-time-series-forecasting/oil.csv\n",
      "/kaggle/input/store-sales-time-series-forecasting/sample_submission.csv\n",
      "/kaggle/input/store-sales-time-series-forecasting/holidays_events.csv\n",
      "/kaggle/input/store-sales-time-series-forecasting/stores.csv\n",
      "/kaggle/input/store-sales-time-series-forecasting/train.csv\n",
      "/kaggle/input/store-sales-time-series-forecasting/test.csv\n",
      "/kaggle/input/store-sales-time-series-forecasting/transactions.csv\n"
     ]
    }
   ],
   "source": [
    "# This Python 3 environment comes with many helpful analytics libraries installed\n",
    "# It is defined by the kaggle/python Docker image: https://github.com/kaggle/docker-python\n",
    "# For example, here's several helpful packages to load\n",
    "\n",
    "import numpy as np # linear algebra\n",
    "import pandas as pd # data processing, CSV file I/O (e.g. pd.read_csv)\n",
    "\n",
    "# Input data files are available in the read-only \"../input/\" directory\n",
    "# For example, running this (by clicking run or pressing Shift+Enter) will list all files under the input directory\n",
    "\n",
    "import os\n",
    "for dirname, _, filenames in os.walk('/kaggle/input'):\n",
    "    for filename in filenames:\n",
    "        print(os.path.join(dirname, filename))\n",
    "\n",
    "# You can write up to 20GB to the current directory (/kaggle/working/) that gets preserved as output when you create a version using \"Save & Run All\" \n",
    "# You can also write temporary files to /kaggle/temp/, but they won't be saved outside of the current session"
   ]
  },
  {
   "cell_type": "code",
   "execution_count": 2,
   "id": "0713c6ce",
   "metadata": {
    "execution": {
     "iopub.execute_input": "2023-12-28T19:57:54.424771Z",
     "iopub.status.busy": "2023-12-28T19:57:54.424175Z",
     "iopub.status.idle": "2023-12-28T19:58:09.922113Z",
     "shell.execute_reply": "2023-12-28T19:58:09.921104Z"
    },
    "papermill": {
     "duration": 15.508092,
     "end_time": "2023-12-28T19:58:09.925204",
     "exception": false,
     "start_time": "2023-12-28T19:57:54.417112",
     "status": "completed"
    },
    "tags": []
   },
   "outputs": [],
   "source": [
    "import numpy as np\n",
    "import pandas as pd\n",
    "from sklearn.model_selection import train_test_split\n",
    "from sklearn.preprocessing import StandardScaler, LabelEncoder\n",
    "from tensorflow.keras.models import Sequential\n",
    "from tensorflow.keras.layers import Dense, Dropout, BatchNormalization, LSTM\n",
    "from tensorflow.keras.regularizers import l2\n",
    "from tensorflow.keras.optimizers import Adam\n",
    "from tensorflow.keras.callbacks import EarlyStopping\n",
    "from tensorflow.keras import backend as K\n",
    "from sklearn.impute import SimpleImputer\n",
    "import matplotlib.pyplot as plt\n",
    "from sklearn.metrics import mean_squared_error"
   ]
  },
  {
   "cell_type": "code",
   "execution_count": 3,
   "id": "2b69f5e6",
   "metadata": {
    "execution": {
     "iopub.execute_input": "2023-12-28T19:58:09.940104Z",
     "iopub.status.busy": "2023-12-28T19:58:09.939001Z",
     "iopub.status.idle": "2023-12-28T19:58:09.945424Z",
     "shell.execute_reply": "2023-12-28T19:58:09.944382Z"
    },
    "papermill": {
     "duration": 0.016883,
     "end_time": "2023-12-28T19:58:09.948338",
     "exception": false,
     "start_time": "2023-12-28T19:58:09.931455",
     "status": "completed"
    },
    "tags": []
   },
   "outputs": [],
   "source": [
    "# Define custom accuracy metric for regression\n",
    "def custom_accuracy(y_true, y_pred):\n",
    "    threshold = 0.6  # Adjust the threshold based on your needs\n",
    "    diff = K.abs(y_true - y_pred)\n",
    "    correct = K.less(diff, threshold)\n",
    "    return K.mean(correct, axis=-1)\n"
   ]
  },
  {
   "cell_type": "code",
   "execution_count": 4,
   "id": "427d8ea9",
   "metadata": {
    "execution": {
     "iopub.execute_input": "2023-12-28T19:58:09.961985Z",
     "iopub.status.busy": "2023-12-28T19:58:09.961337Z",
     "iopub.status.idle": "2023-12-28T19:58:14.253323Z",
     "shell.execute_reply": "2023-12-28T19:58:14.251786Z"
    },
    "papermill": {
     "duration": 4.30225,
     "end_time": "2023-12-28T19:58:14.256525",
     "exception": false,
     "start_time": "2023-12-28T19:58:09.954275",
     "status": "completed"
    },
    "tags": []
   },
   "outputs": [],
   "source": [
    "# Load data\n",
    "train_data = pd.read_csv(\"/kaggle/input/store-sales-time-series-forecasting/train.csv\")\n",
    "test_data = pd.read_csv(\"/kaggle/input/store-sales-time-series-forecasting/test.csv\")\n",
    "oil_data = pd.read_csv(\"/kaggle/input/store-sales-time-series-forecasting/oil.csv\")\n",
    "holidays_data = pd.read_csv(\"/kaggle/input/store-sales-time-series-forecasting/holidays_events.csv\")\n",
    "stores_data = pd.read_csv(\"/kaggle/input/store-sales-time-series-forecasting/stores.csv\")\n",
    "transaction_data = pd.read_csv(\"/kaggle/input/store-sales-time-series-forecasting/transactions.csv\")\n"
   ]
  },
  {
   "cell_type": "code",
   "execution_count": 5,
   "id": "faa10a5b",
   "metadata": {
    "execution": {
     "iopub.execute_input": "2023-12-28T19:58:14.280406Z",
     "iopub.status.busy": "2023-12-28T19:58:14.280008Z",
     "iopub.status.idle": "2023-12-28T19:58:22.052094Z",
     "shell.execute_reply": "2023-12-28T19:58:22.050572Z"
    },
    "papermill": {
     "duration": 7.785222,
     "end_time": "2023-12-28T19:58:22.055450",
     "exception": false,
     "start_time": "2023-12-28T19:58:14.270228",
     "status": "completed"
    },
    "tags": []
   },
   "outputs": [
    {
     "name": "stdout",
     "output_type": "stream",
     "text": [
      "         store_nbr                      family     sales  onpromotion   city  \\\n",
      "73062            1                  AUTOMOTIVE     0.000            0  Quito   \n",
      "73063            1                   BABY CARE     0.000            0  Quito   \n",
      "73064            1                      BEAUTY     0.000            0  Quito   \n",
      "73065            1                   BEVERAGES   172.000            0  Quito   \n",
      "73066            1                       BOOKS     0.000            0  Quito   \n",
      "...            ...                         ...       ...          ...    ...   \n",
      "3054343          9                     POULTRY   438.133            0  Quito   \n",
      "3054344          9              PREPARED FOODS   154.553            1  Quito   \n",
      "3054345          9                     PRODUCE  2419.729          148  Quito   \n",
      "3054346          9  SCHOOL AND OFFICE SUPPLIES   121.000            8  Quito   \n",
      "3054347          9                     SEAFOOD    16.000            0  Quito   \n",
      "\n",
      "             state type_x  cluster  dcoilwtico  \n",
      "73062    Pichincha      D       13       97.01  \n",
      "73063    Pichincha      D       13       97.01  \n",
      "73064    Pichincha      D       13       97.01  \n",
      "73065    Pichincha      D       13       97.01  \n",
      "73066    Pichincha      D       13       97.01  \n",
      "...            ...    ...      ...         ...  \n",
      "3054343  Pichincha      B        6       47.57  \n",
      "3054344  Pichincha      B        6       47.57  \n",
      "3054345  Pichincha      B        6       47.57  \n",
      "3054346  Pichincha      B        6       47.57  \n",
      "3054347  Pichincha      B        6       47.57  \n",
      "\n",
      "[300003 rows x 9 columns]\n",
      "403.27468797423194\n",
      "1242.564111603677\n"
     ]
    }
   ],
   "source": [
    "# Merge data\n",
    "merged_data = pd.merge(train_data, stores_data, on='store_nbr', how='left')\n",
    "merged_data = pd.merge(merged_data, oil_data, on='date', how='left')\n",
    "merged_data = pd.merge(merged_data, holidays_data, on='date', how='left')\n",
    "merged_data = pd.merge(merged_data, transaction_data, on=['date', 'store_nbr'], how='left')\n",
    "merged_data = merged_data.drop(columns=['date'])\n",
    "merged_data = merged_data.drop(columns=['id'])\n",
    "merged_data = merged_data.drop(columns=['description'])\n",
    "merged_data = merged_data.drop(columns=['transferred'])\n",
    "merged_data = merged_data.dropna()\n",
    "#type_y locale locale_name  transactions\n",
    "columns_to_drop = [ 'type_y', 'locale', 'locale_name', 'transactions']\n",
    "merged_data = merged_data.drop(columns=columns_to_drop)\n",
    "\n",
    "print(merged_data)\n",
    "m = np.mean(merged_data[\"sales\"])\n",
    "s = np.std(merged_data[\"sales\"])\n",
    "print(m)\n",
    "print(s)\n",
    "\n",
    "\n"
   ]
  },
  {
   "cell_type": "code",
   "execution_count": 6,
   "id": "b52e56a1",
   "metadata": {
    "execution": {
     "iopub.execute_input": "2023-12-28T19:58:22.070621Z",
     "iopub.status.busy": "2023-12-28T19:58:22.070223Z",
     "iopub.status.idle": "2023-12-28T19:58:22.172754Z",
     "shell.execute_reply": "2023-12-28T19:58:22.171752Z"
    },
    "papermill": {
     "duration": 0.112909,
     "end_time": "2023-12-28T19:58:22.175063",
     "exception": false,
     "start_time": "2023-12-28T19:58:22.062154",
     "status": "completed"
    },
    "tags": []
   },
   "outputs": [
    {
     "name": "stdout",
     "output_type": "stream",
     "text": [
      "       store_nbr                      family  onpromotion   city      state  \\\n",
      "0              1                  AUTOMOTIVE            0  Quito  Pichincha   \n",
      "1              1                   BABY CARE            0  Quito  Pichincha   \n",
      "2              1                      BEAUTY            2  Quito  Pichincha   \n",
      "3              1                   BEVERAGES           20  Quito  Pichincha   \n",
      "4              1                       BOOKS            0  Quito  Pichincha   \n",
      "...          ...                         ...          ...    ...        ...   \n",
      "28507          9                     POULTRY            1  Quito  Pichincha   \n",
      "28508          9              PREPARED FOODS            0  Quito  Pichincha   \n",
      "28509          9                     PRODUCE            1  Quito  Pichincha   \n",
      "28510          9  SCHOOL AND OFFICE SUPPLIES            9  Quito  Pichincha   \n",
      "28511          9                     SEAFOOD            0  Quito  Pichincha   \n",
      "\n",
      "      type_x  cluster  dcoilwtico  \n",
      "0          D       13       46.80  \n",
      "1          D       13       46.80  \n",
      "2          D       13       46.80  \n",
      "3          D       13       46.80  \n",
      "4          D       13       46.80  \n",
      "...      ...      ...         ...  \n",
      "28507      B        6       47.26  \n",
      "28508      B        6       47.26  \n",
      "28509      B        6       47.26  \n",
      "28510      B        6       47.26  \n",
      "28511      B        6       47.26  \n",
      "\n",
      "[28512 rows x 8 columns]\n"
     ]
    }
   ],
   "source": [
    "# Merge data\n",
    "merged_test = pd.merge(test_data, stores_data, on='store_nbr', how='left')\n",
    "merged_test = pd.merge(merged_test, oil_data, on='date', how='left')\n",
    "merged_test = pd.merge(merged_test, holidays_data, on='date', how='left')\n",
    "merged_test = pd.merge(merged_test, transaction_data, on=['date', 'store_nbr'], how='left')\n",
    "id=merged_test[\"id\"]\n",
    "# Drop unnecessary columns\n",
    "columns_to_drop = ['date', 'id', 'description', 'transferred']\n",
    "merged_test = merged_test.drop(columns=columns_to_drop)\n",
    "columns_to_drop = [ 'type_y', 'locale', 'locale_name', 'transactions']\n",
    "merged_test = merged_test.drop(columns=columns_to_drop)\n",
    "\n",
    "# Fill missing values in columns with appropriate strategies\n",
    "# For example, filling missing values in 'dcoilwtico' with the median value\n",
    "merged_test['dcoilwtico'] = merged_test['dcoilwtico'].fillna(merged_test['dcoilwtico'].median())\n",
    "merged_test=merged_test.dropna()\n",
    "\n",
    "\n",
    "print(merged_test)"
   ]
  },
  {
   "cell_type": "code",
   "execution_count": 7,
   "id": "3c2e5675",
   "metadata": {
    "execution": {
     "iopub.execute_input": "2023-12-28T19:58:22.189272Z",
     "iopub.status.busy": "2023-12-28T19:58:22.188781Z",
     "iopub.status.idle": "2023-12-28T19:58:22.610150Z",
     "shell.execute_reply": "2023-12-28T19:58:22.609131Z"
    },
    "papermill": {
     "duration": 0.431651,
     "end_time": "2023-12-28T19:58:22.612802",
     "exception": false,
     "start_time": "2023-12-28T19:58:22.181151",
     "status": "completed"
    },
    "tags": []
   },
   "outputs": [],
   "source": [
    "\n",
    "\n",
    "# Apply label encoding for categorical columns\n",
    "label_encoder = LabelEncoder()\n",
    "categorical_cols = ['family', 'city', 'state', 'type_x']\n",
    "for col in categorical_cols:\n",
    "    merged_data[col] = label_encoder.fit_transform(merged_data[col])\n",
    "\n",
    "# Scale numerical columns using StandardScaler\n",
    "scaler = StandardScaler()\n",
    "numerical_cols = ['sales', 'onpromotion', 'cluster', 'dcoilwtico']\n",
    "merged_data[numerical_cols] = scaler.fit_transform(merged_data[numerical_cols])\n",
    "\n",
    "# Features and target\n",
    "X = merged_data.drop('sales', axis=1)\n",
    "Y = merged_data['sales']\n",
    "\n"
   ]
  },
  {
   "cell_type": "code",
   "execution_count": 8,
   "id": "507eecaa",
   "metadata": {
    "execution": {
     "iopub.execute_input": "2023-12-28T19:58:22.627522Z",
     "iopub.status.busy": "2023-12-28T19:58:22.626793Z",
     "iopub.status.idle": "2023-12-28T19:58:22.683546Z",
     "shell.execute_reply": "2023-12-28T19:58:22.682519Z"
    },
    "papermill": {
     "duration": 0.066912,
     "end_time": "2023-12-28T19:58:22.685815",
     "exception": false,
     "start_time": "2023-12-28T19:58:22.618903",
     "status": "completed"
    },
    "tags": []
   },
   "outputs": [
    {
     "name": "stdout",
     "output_type": "stream",
     "text": [
      "       store_nbr  family  onpromotion  city  state  type_x   cluster  \\\n",
      "0              1       0    -0.336759    18     12       3  0.971780   \n",
      "1              1       1    -0.336759    18     12       3  0.971780   \n",
      "2              1       2    -0.240064    18     12       3  0.971780   \n",
      "3              1       3     0.630191    18     12       3  0.971780   \n",
      "4              1       4    -0.336759    18     12       3  0.971780   \n",
      "...          ...     ...          ...   ...    ...     ...       ...   \n",
      "28507          9      28    -0.288411    18     12       1 -0.533682   \n",
      "28508          9      29    -0.336759    18     12       1 -0.533682   \n",
      "28509          9      30    -0.288411    18     12       1 -0.533682   \n",
      "28510          9      31     0.098369    18     12       1 -0.533682   \n",
      "28511          9      32    -0.336759    18     12       1 -0.533682   \n",
      "\n",
      "       dcoilwtico  \n",
      "0       -0.681567  \n",
      "1       -0.681567  \n",
      "2       -0.681567  \n",
      "3       -0.681567  \n",
      "4       -0.681567  \n",
      "...           ...  \n",
      "28507    0.022974  \n",
      "28508    0.022974  \n",
      "28509    0.022974  \n",
      "28510    0.022974  \n",
      "28511    0.022974  \n",
      "\n",
      "[28512 rows x 8 columns]\n"
     ]
    }
   ],
   "source": [
    "# Apply label encoding for categorical columns\n",
    "label_encoder = LabelEncoder()\n",
    "categorical_cols = ['family', 'city', 'state', 'type_x']\n",
    "for col in categorical_cols:\n",
    "    merged_test[col] = label_encoder.fit_transform(merged_test[col])\n",
    "\n",
    "\n",
    "scaler = StandardScaler()\n",
    "numerical_cols = [ 'onpromotion', 'cluster', 'dcoilwtico']\n",
    "merged_test[numerical_cols] = scaler.fit_transform(merged_test[numerical_cols])\n",
    "\n",
    "print(merged_test)"
   ]
  },
  {
   "cell_type": "code",
   "execution_count": 9,
   "id": "1c9b9098",
   "metadata": {
    "execution": {
     "iopub.execute_input": "2023-12-28T19:58:22.700982Z",
     "iopub.status.busy": "2023-12-28T19:58:22.700464Z",
     "iopub.status.idle": "2023-12-28T19:59:03.624534Z",
     "shell.execute_reply": "2023-12-28T19:59:03.622569Z"
    },
    "papermill": {
     "duration": 40.936718,
     "end_time": "2023-12-28T19:59:03.628633",
     "exception": false,
     "start_time": "2023-12-28T19:58:22.691915",
     "status": "completed"
    },
    "tags": []
   },
   "outputs": [
    {
     "name": "stdout",
     "output_type": "stream",
     "text": [
      "Epoch 1/2\n",
      "6563/6563 [==============================] - 20s 3ms/step - loss: 3.5710 - custom_accuracy: 0.6246 - val_loss: 1.1091 - val_custom_accuracy: 0.9125\n",
      "Epoch 2/2\n",
      "6563/6563 [==============================] - 20s 3ms/step - loss: 0.9967 - custom_accuracy: 0.8868 - val_loss: 1.0696 - val_custom_accuracy: 0.9110\n",
      "Model: \"sequential\"\n",
      "_________________________________________________________________\n",
      " Layer (type)                Output Shape              Param #   \n",
      "=================================================================\n",
      " dense (Dense)               (None, 64)                576       \n",
      "                                                                 \n",
      " dropout (Dropout)           (None, 64)                0         \n",
      "                                                                 \n",
      " dense_1 (Dense)             (None, 32)                2080      \n",
      "                                                                 \n",
      " dropout_1 (Dropout)         (None, 32)                0         \n",
      "                                                                 \n",
      " dense_2 (Dense)             (None, 1)                 33        \n",
      "                                                                 \n",
      "=================================================================\n",
      "Total params: 2689 (10.50 KB)\n",
      "Trainable params: 2689 (10.50 KB)\n",
      "Non-trainable params: 0 (0.00 Byte)\n",
      "_________________________________________________________________\n"
     ]
    }
   ],
   "source": [
    "from keras.models import Sequential\n",
    "from keras.layers import Dense, Dropout\n",
    "from keras.optimizers import Adam\n",
    "from keras.regularizers import l2\n",
    "from sklearn.model_selection import train_test_split\n",
    "\n",
    "# Split the data into training and testing sets\n",
    "X_train, X_test, y_train, y_test = train_test_split(X, Y, test_size=0.3, random_state=42)\n",
    "\n",
    "# Define and compile the model\n",
    "reg_dropout_model = Sequential()\n",
    "\n",
    "# Add the first dense layer with L2 regularization and dropout\n",
    "input_shape = X_train.shape[1]  # Number of features\n",
    "reg_dropout_model.add(Dense(64, input_shape=(input_shape,), activation='relu', kernel_regularizer=l2(0.001)))\n",
    "reg_dropout_model.add(Dropout(0.5))  # Adding dropout for regularization\n",
    "\n",
    "# Add the second dense layer with L2 regularization and dropout\n",
    "reg_dropout_model.add(Dense(32, activation='relu', kernel_regularizer=l2(0.001)))\n",
    "reg_dropout_model.add(Dropout(0.5))  # Adding dropout for regularization\n",
    "\n",
    "# Add the output layer with linear activation (no activation for regression)\n",
    "reg_dropout_model.add(Dense(1, activation='linear', kernel_regularizer=l2(0.001)))\n",
    "\n",
    "# Compile the model with mean squared error loss, Adam optimizer, and custom accuracy metric\n",
    "optimizer = Adam(learning_rate=0.0001)  # Adjusted learning rate\n",
    "reg_dropout_model.compile(optimizer=optimizer, loss='mean_squared_error', metrics=[custom_accuracy])\n",
    "\n",
    "# Train the model\n",
    "history = reg_dropout_model.fit(\n",
    "    X_train, y_train,\n",
    "    epochs=2, batch_size=32,\n",
    "    validation_data=(X_test, y_test),\n",
    ")\n",
    "\n",
    "reg_dropout_model.summary()\n"
   ]
  },
  {
   "cell_type": "code",
   "execution_count": 10,
   "id": "a4be6267",
   "metadata": {
    "execution": {
     "iopub.execute_input": "2023-12-28T19:59:03.757038Z",
     "iopub.status.busy": "2023-12-28T19:59:03.756610Z",
     "iopub.status.idle": "2023-12-28T19:59:04.120123Z",
     "shell.execute_reply": "2023-12-28T19:59:04.118853Z"
    },
    "papermill": {
     "duration": 0.430933,
     "end_time": "2023-12-28T19:59:04.122901",
     "exception": false,
     "start_time": "2023-12-28T19:59:03.691968",
     "status": "completed"
    },
    "tags": []
   },
   "outputs": [
    {
     "data": {
      "image/png": "[encoded data removed]",
      "text/plain": [
       "<Figure size 640x480 with 1 Axes>"
      ]
     },
     "metadata": {},
     "output_type": "display_data"
    }
   ],
   "source": [
    "import matplotlib.pyplot as plt\n",
    "plt.plot(history.history['loss'], label='Training Loss')\n",
    "plt.plot(history.history['val_loss'], label='Validation Loss')\n",
    "plt.title('Training and Validation Loss')\n",
    "plt.xlabel('Epochs')\n",
    "plt.ylabel('Loss')\n",
    "plt.legend()\n",
    "plt.show()"
   ]
  },
  {
   "cell_type": "code",
   "execution_count": 11,
   "id": "74085bbc",
   "metadata": {
    "execution": {
     "iopub.execute_input": "2023-12-28T19:59:04.254148Z",
     "iopub.status.busy": "2023-12-28T19:59:04.253748Z",
     "iopub.status.idle": "2023-12-28T19:59:06.191063Z",
     "shell.execute_reply": "2023-12-28T19:59:06.189890Z"
    },
    "papermill": {
     "duration": 2.006466,
     "end_time": "2023-12-28T19:59:06.193773",
     "exception": false,
     "start_time": "2023-12-28T19:59:04.187307",
     "status": "completed"
    },
    "tags": []
   },
   "outputs": [
    {
     "name": "stdout",
     "output_type": "stream",
     "text": [
      "891/891 [==============================] - 1s 2ms/step\n",
      "[[ 0.06303919]\n",
      " [ 0.05922852]\n",
      " [ 0.05806536]\n",
      " ...\n",
      " [-0.09080004]\n",
      " [-0.09080004]\n",
      " [-0.09080004]]\n"
     ]
    }
   ],
   "source": [
    "\n",
    "# Make predictions on the test data using the trained model\n",
    "predicted_output = reg_dropout_model.predict(merged_test)\n",
    "\n",
    "# You can use the predicted_output for further analysis or submission\n",
    "print(predicted_output)"
   ]
  },
  {
   "cell_type": "code",
   "execution_count": 12,
   "id": "086a9395",
   "metadata": {
    "execution": {
     "iopub.execute_input": "2023-12-28T19:59:06.336142Z",
     "iopub.status.busy": "2023-12-28T19:59:06.335673Z",
     "iopub.status.idle": "2023-12-28T19:59:06.444608Z",
     "shell.execute_reply": "2023-12-28T19:59:06.443424Z"
    },
    "papermill": {
     "duration": 0.182534,
     "end_time": "2023-12-28T19:59:06.448172",
     "exception": false,
     "start_time": "2023-12-28T19:59:06.265638",
     "status": "completed"
    },
    "tags": []
   },
   "outputs": [],
   "source": [
    "p=(predicted_output * s) + m\n",
    "predicted_df = pd.DataFrame({'sales': p.flatten()})\n",
    "test_data_final = pd.concat([id, predicted_df['sales']], axis=1)\n",
    "test_data_final.to_csv('model.csv', index=False)"
   ]
  },
  {
   "cell_type": "code",
   "execution_count": 13,
   "id": "84c231be",
   "metadata": {
    "execution": {
     "iopub.execute_input": "2023-12-28T19:59:06.692221Z",
     "iopub.status.busy": "2023-12-28T19:59:06.691766Z",
     "iopub.status.idle": "2023-12-28T20:01:54.449740Z",
     "shell.execute_reply": "2023-12-28T20:01:54.448244Z"
    },
    "papermill": {
     "duration": 167.833492,
     "end_time": "2023-12-28T20:01:54.452246",
     "exception": false,
     "start_time": "2023-12-28T19:59:06.618754",
     "status": "completed"
    },
    "tags": []
   },
   "outputs": [
    {
     "name": "stdout",
     "output_type": "stream",
     "text": [
      "Epoch 1/2\n",
      "6563/6563 [==============================] - 68s 10ms/step - loss: 0.6552 - val_loss: 0.5534\n",
      "Epoch 2/2\n",
      "6563/6563 [==============================] - 65s 10ms/step - loss: 0.4485 - val_loss: 0.4262\n",
      "2813/2813 [==============================] - 10s 4ms/step - loss: 0.4262\n",
      "Test Loss: 0.42621102929115295\n",
      "2813/2813 [==============================] - 10s 3ms/step\n",
      "Mean Squared Error: 0.426210851946662\n"
     ]
    },
    {
     "data": {
      "image/png": "[encoded data removed]",
      "text/plain": [
       "<Figure size 1200x600 with 1 Axes>"
      ]
     },
     "metadata": {},
     "output_type": "display_data"
    }
   ],
   "source": [
    "def reshape_for_lstm(data, time_steps):\n",
    "    x, y = [], []\n",
    "    for i in range(len(data) - time_steps):\n",
    "        x.append(data[i:(i + time_steps)])\n",
    "        y.append(data[i + time_steps])\n",
    "    return np.array(x), np.array(y)\n",
    "\n",
    "# Extract the sales column as the target variable\n",
    "y_series = merged_data['sales'].values\n",
    "\n",
    "# Feature scaling\n",
    "scaler = StandardScaler()\n",
    "y_series = scaler.fit_transform(y_series.reshape(-1, 1)).flatten()\n",
    "\n",
    "# Create sequences for time series forecasting\n",
    "time_steps = 10\n",
    "X_series, Y_series = reshape_for_lstm(y_series, time_steps)\n",
    "\n",
    "# Reshape X_series to include the number of features\n",
    "X_series = X_series.reshape(X_series.shape[0], X_series.shape[1], 1)\n",
    "\n",
    "# Split the data into training and testing sets\n",
    "X_train_series, X_test_series, y_train_series, y_test_series = train_test_split(\n",
    "    X_series, Y_series, test_size=0.3, random_state=42\n",
    ")\n",
    "\n",
    "# Define and compile the LSTM model\n",
    "lstm_model = Sequential()\n",
    "lstm_model.add(LSTM(units=50, input_shape=(X_train_series.shape[1], X_train_series.shape[2])))\n",
    "lstm_model.add(Dense(units=1))\n",
    "lstm_model.compile(optimizer=Adam(learning_rate=0.001), loss='mean_squared_error')\n",
    "\n",
    "# Use EarlyStopping callback\n",
    "early_stopping = EarlyStopping(monitor='val_loss', patience=3, restore_best_weights=True)\n",
    "\n",
    "# Train the LSTM model\n",
    "history = lstm_model.fit(\n",
    "    X_train_series, y_train_series,\n",
    "    epochs=2, batch_size=32,\n",
    "    validation_data=(X_test_series, y_test_series),\n",
    "    callbacks=[early_stopping]\n",
    ")\n",
    "\n",
    "# Evaluate the model on the test set\n",
    "test_loss = lstm_model.evaluate(X_test_series, y_test_series)\n",
    "print(f\"Test Loss: {test_loss}\")\n",
    "\n",
    "# Make predictions on the test data using the trained LSTM model\n",
    "predicted_series = lstm_model.predict(X_test_series)\n",
    "\n",
    "# Inverse transform the predictions to the original scale\n",
    "predicted_series = scaler.inverse_transform(predicted_series)\n",
    "y_test_series_original = scaler.inverse_transform(y_test_series.reshape(-1, 1))\n",
    "\n",
    "# Evaluate performance (you can use different metrics as needed)\n",
    "mse = mean_squared_error(y_test_series_original, predicted_series)\n",
    "print(f\"Mean Squared Error: {mse}\")\n",
    "\n",
    "# Plot the actual vs. predicted values\n",
    "plt.figure(figsize=(12, 6))\n",
    "plt.plot(y_test_series_original, label='Actual')\n",
    "plt.plot(predicted_series, label='Predicted')\n",
    "plt.title('Actual vs. Predicted Sales')\n",
    "plt.xlabel('Time Steps')\n",
    "plt.ylabel('Sales')\n",
    "plt.legend()\n",
    "plt.show()"
   ]
  },
  {
   "cell_type": "code",
   "execution_count": null,
   "id": "4ba9d314",
   "metadata": {
    "papermill": {
     "duration": 0.298659,
     "end_time": "2023-12-28T20:01:55.047570",
     "exception": false,
     "start_time": "2023-12-28T20:01:54.748911",
     "status": "completed"
    },
    "tags": []
   },
   "outputs": [],
   "source": []
  }
 ],
 "metadata": {
  "kaggle": {
   "accelerator": "none",
   "dataSources": [
    {
     "databundleVersionId": 2887556,
     "sourceId": 29781,
     "sourceType": "competition"
    }
   ],
   "dockerImageVersionId": 30626,
   "isGpuEnabled": false,
   "isInternetEnabled": true,
   "language": "python",
   "sourceType": "notebook"
  },
  "kernelspec": {
   "display_name": "Python 3",
   "language": "python",
   "name": "python3"
  },
  "language_info": {
   "codemirror_mode": {
    "name": "ipython",
    "version": 3
   },
   "file_extension": ".py",
   "mimetype": "text/x-python",
   "name": "python",
   "nbconvert_exporter": "python",
   "pygments_lexer": "ipython3",
   "version": "3.10.12"
  },
  "papermill": {
   "default_parameters": {},
   "duration": 247.650144,
   "end_time": "2023-12-28T20:01:58.086152",
   "environment_variables": {},
   "exception": null,
   "input_path": "__notebook__.ipynb",
   "output_path": "__notebook__.ipynb",
   "parameters": {},
   "start_time": "2023-12-28T19:57:50.436008",
   "version": "2.4.0"
  }
 },
 "nbformat": 4,
 "nbformat_minor": 5
}
